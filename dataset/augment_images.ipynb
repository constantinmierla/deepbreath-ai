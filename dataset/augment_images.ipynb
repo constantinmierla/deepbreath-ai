{
 "cells": [
  {
   "cell_type": "code",
   "id": "initial_id",
   "metadata": {
    "collapsed": true,
    "ExecuteTime": {
     "end_time": "2025-06-18T12:30:41.912207Z",
     "start_time": "2025-06-18T12:29:26.114121Z"
    }
   },
   "source": [
    "import os\n",
    "from tensorflow.keras.preprocessing.image import ImageDataGenerator, img_to_array, load_img, array_to_img\n",
    "from tqdm import tqdm\n",
    "\n",
    "# === Configurații ===\n",
    "SOURCE_DIR = 'preprocessed_dataset/train'\n",
    "TARGET_DIR = 'preprocessed_dataset/train_augmented'\n",
    "AUGMENTATIONS_PER_IMAGE = 5  # câte imagini noi să genereze per imagine originală\n",
    "IMAGE_SIZE = (224, 224)  # trebuie să corespundă cu modelul tău\n",
    "\n",
    "# === Setări de augmentare ===\n",
    "datagen = ImageDataGenerator(\n",
    "    rotation_range=20,\n",
    "    width_shift_range=0.1,\n",
    "    height_shift_range=0.1,\n",
    "    zoom_range=0.1,\n",
    "    shear_range=0.1,\n",
    "    horizontal_flip=True,\n",
    "    fill_mode='nearest'\n",
    ")\n",
    "\n",
    "# === Creează directoarele destinație dacă nu există ===\n",
    "os.makedirs(TARGET_DIR, exist_ok=True)\n",
    "CLASSES = os.listdir(SOURCE_DIR)\n",
    "\n",
    "for class_name in CLASSES:\n",
    "    os.makedirs(os.path.join(TARGET_DIR, class_name), exist_ok=True)\n",
    "\n",
    "# === Procesăm fiecare imagine ===\n",
    "for class_name in CLASSES:\n",
    "    class_path = os.path.join(SOURCE_DIR, class_name)\n",
    "    target_class_path = os.path.join(TARGET_DIR, class_name)\n",
    "    images = [f for f in os.listdir(class_path) if f.lower().endswith(('.png', '.jpg', '.jpeg'))]\n",
    "\n",
    "    print(f'Augmentez clasa \"{class_name}\" ({len(images)} imagini)...')\n",
    "    \n",
    "    for img_name in tqdm(images):\n",
    "        img_path = os.path.join(class_path, img_name)\n",
    "        try:\n",
    "            # Încarcă imaginea\n",
    "            img = load_img(img_path, target_size=IMAGE_SIZE)\n",
    "            x = img_to_array(img)\n",
    "            x = x.reshape((1,) + x.shape)\n",
    "\n",
    "            # SOLUȚIA 1: Folosește save_to_dir (cea mai simplă)\n",
    "            for i in range(AUGMENTATIONS_PER_IMAGE):\n",
    "                generator = datagen.flow(\n",
    "                    x, \n",
    "                    batch_size=1,\n",
    "                    save_to_dir=target_class_path,\n",
    "                    save_prefix=f'aug_{i}_{img_name.split(\".\")[0]}',\n",
    "                    save_format='jpg'  # sau 'png'\n",
    "                )\n",
    "                next(generator)  # generează un batch\n",
    "            \n",
    "            # Dacă vrei control manual, folosește SOLUȚIA 2:\n",
    "            \"\"\"\n",
    "            # SOLUȚIA 2: Control manual cu iterator\n",
    "            flow_gen = datagen.flow(x, batch_size=1)\n",
    "            for i in range(AUGMENTATIONS_PER_IMAGE):\n",
    "                batch = next(flow_gen)\n",
    "                aug_img = array_to_img(batch[0])\n",
    "                base_name = img_name.split('.')[0]\n",
    "                extension = img_name.split('.')[-1]\n",
    "                aug_img.save(os.path.join(target_class_path, f'aug_{i}_{base_name}.{extension}'))\n",
    "            \"\"\"\n",
    "\n",
    "        except Exception as e:\n",
    "            print(f'Eroare la imaginea {img_name}: {e}')\n",
    "\n",
    "print(\"Augmentare completă!\")"
   ],
   "outputs": [
    {
     "name": "stdout",
     "output_type": "stream",
     "text": [
      "Augmentez clasa \"large_cell_carcinoma\" (1044 imagini)...\n"
     ]
    },
    {
     "name": "stderr",
     "output_type": "stream",
     "text": [
      "100%|██████████| 1044/1044 [00:21<00:00, 49.39it/s]\n"
     ]
    },
    {
     "name": "stdout",
     "output_type": "stream",
     "text": [
      "Augmentez clasa \"squamous_cell_carcinoma\" (1226 imagini)...\n"
     ]
    },
    {
     "name": "stderr",
     "output_type": "stream",
     "text": [
      "100%|██████████| 1226/1226 [00:19<00:00, 61.32it/s]\n"
     ]
    },
    {
     "name": "stdout",
     "output_type": "stream",
     "text": [
      "Augmentez clasa \"adenocarcinoma\" (1051 imagini)...\n"
     ]
    },
    {
     "name": "stderr",
     "output_type": "stream",
     "text": [
      "100%|██████████| 1051/1051 [00:17<00:00, 60.51it/s]\n"
     ]
    },
    {
     "name": "stdout",
     "output_type": "stream",
     "text": [
      "Augmentez clasa \"normal\" (1056 imagini)...\n"
     ]
    },
    {
     "name": "stderr",
     "output_type": "stream",
     "text": [
      "100%|██████████| 1056/1056 [00:17<00:00, 61.09it/s]"
     ]
    },
    {
     "name": "stdout",
     "output_type": "stream",
     "text": [
      "Augmentare completă!\n"
     ]
    },
    {
     "name": "stderr",
     "output_type": "stream",
     "text": [
      "\n"
     ]
    }
   ],
   "execution_count": 3
  },
  {
   "metadata": {
    "ExecuteTime": {
     "end_time": "2025-06-18T12:29:20.943807Z",
     "start_time": "2025-06-18T12:29:17.991457Z"
    }
   },
   "cell_type": "code",
   "source": "!pip install scipy",
   "id": "e4c6cc5a1dbc6e82",
   "outputs": [
    {
     "name": "stdout",
     "output_type": "stream",
     "text": [
      "Collecting scipy\r\n",
      "  Obtaining dependency information for scipy from https://files.pythonhosted.org/packages/5c/c0/e71b94b20ccf9effb38d7147c0064c08c622309fd487b1b677771a97d18c/scipy-1.13.1-cp39-cp39-macosx_12_0_arm64.whl.metadata\r\n",
      "  Using cached scipy-1.13.1-cp39-cp39-macosx_12_0_arm64.whl.metadata (60 kB)\r\n",
      "Requirement already satisfied: numpy<2.3,>=1.22.4 in /Users/constantinmierla/Informatica/deepbreath/ai-projects-deepbreath-ai/.venv/lib/python3.9/site-packages (from scipy) (1.26.4)\r\n",
      "Using cached scipy-1.13.1-cp39-cp39-macosx_12_0_arm64.whl (30.3 MB)\r\n",
      "Installing collected packages: scipy\r\n",
      "Successfully installed scipy-1.13.1\r\n",
      "\r\n",
      "\u001B[1m[\u001B[0m\u001B[34;49mnotice\u001B[0m\u001B[1;39;49m]\u001B[0m\u001B[39;49m A new release of pip is available: \u001B[0m\u001B[31;49m23.2.1\u001B[0m\u001B[39;49m -> \u001B[0m\u001B[32;49m25.1.1\u001B[0m\r\n",
      "\u001B[1m[\u001B[0m\u001B[34;49mnotice\u001B[0m\u001B[1;39;49m]\u001B[0m\u001B[39;49m To update, run: \u001B[0m\u001B[32;49mpip install --upgrade pip\u001B[0m\r\n"
     ]
    }
   ],
   "execution_count": 2
  }
 ],
 "metadata": {
  "kernelspec": {
   "display_name": "Python 3",
   "language": "python",
   "name": "python3"
  },
  "language_info": {
   "codemirror_mode": {
    "name": "ipython",
    "version": 2
   },
   "file_extension": ".py",
   "mimetype": "text/x-python",
   "name": "python",
   "nbconvert_exporter": "python",
   "pygments_lexer": "ipython2",
   "version": "2.7.6"
  }
 },
 "nbformat": 4,
 "nbformat_minor": 5
}
