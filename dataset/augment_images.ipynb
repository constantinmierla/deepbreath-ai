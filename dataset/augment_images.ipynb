{
 "cells": [
  {
   "cell_type": "code",
   "execution_count": 6,
   "id": "initial_id",
   "metadata": {
    "collapsed": true,
    "ExecuteTime": {
     "end_time": "2025-06-02T16:13:52.705802800Z",
     "start_time": "2025-06-02T16:13:30.790911600Z"
    }
   },
   "outputs": [
    {
     "name": "stdout",
     "output_type": "stream",
     "text": [
      "Augmentez clasa \"adenocarcinoma\" (310 imagini)...\n"
     ]
    },
    {
     "name": "stderr",
     "output_type": "stream",
     "text": [
      "100%|██████████| 310/310 [00:07<00:00, 38.90it/s]\n"
     ]
    },
    {
     "name": "stdout",
     "output_type": "stream",
     "text": [
      "Augmentez clasa \"large_cell_carcinoma\" (156 imagini)...\n"
     ]
    },
    {
     "name": "stderr",
     "output_type": "stream",
     "text": [
      "100%|██████████| 156/156 [00:03<00:00, 39.55it/s]\n"
     ]
    },
    {
     "name": "stdout",
     "output_type": "stream",
     "text": [
      "Augmentez clasa \"normal\" (156 imagini)...\n"
     ]
    },
    {
     "name": "stderr",
     "output_type": "stream",
     "text": [
      "100%|██████████| 156/156 [00:03<00:00, 39.87it/s]\n"
     ]
    },
    {
     "name": "stdout",
     "output_type": "stream",
     "text": [
      "Augmentez clasa \"squamous_cell_carcinoma\" (242 imagini)...\n"
     ]
    },
    {
     "name": "stderr",
     "output_type": "stream",
     "text": [
      "100%|██████████| 242/242 [00:06<00:00, 39.84it/s]"
     ]
    },
    {
     "name": "stdout",
     "output_type": "stream",
     "text": [
      "Augmentare completă!\n"
     ]
    },
    {
     "name": "stderr",
     "output_type": "stream",
     "text": [
      "\n"
     ]
    }
   ],
   "source": [
    "import os\n",
    "from tensorflow.keras.preprocessing.image import ImageDataGenerator, img_to_array, load_img, array_to_img\n",
    "from tqdm import tqdm\n",
    "\n",
    "# === Configurații ===\n",
    "SOURCE_DIR = 'preprocessed_dataset/train'\n",
    "TARGET_DIR = 'preprocessed_dataset/train_augmented'\n",
    "AUGMENTATIONS_PER_IMAGE = 5  # câte imagini noi să genereze per imagine originală\n",
    "IMAGE_SIZE = (224, 224)  # trebuie să corespundă cu modelul tău\n",
    "\n",
    "# === Setări de augmentare ===\n",
    "datagen = ImageDataGenerator(\n",
    "    rotation_range=20,\n",
    "    width_shift_range=0.1,\n",
    "    height_shift_range=0.1,\n",
    "    zoom_range=0.1,\n",
    "    shear_range=0.1,\n",
    "    horizontal_flip=True,\n",
    "    fill_mode='nearest'\n",
    ")\n",
    "\n",
    "# === Creează directoarele destinație dacă nu există ===\n",
    "os.makedirs(TARGET_DIR, exist_ok=True)\n",
    "CLASSES = os.listdir(SOURCE_DIR)\n",
    "\n",
    "for class_name in CLASSES:\n",
    "    os.makedirs(os.path.join(TARGET_DIR, class_name), exist_ok=True)\n",
    "\n",
    "# === Procesăm fiecare imagine ===\n",
    "for class_name in CLASSES:\n",
    "    class_path = os.path.join(SOURCE_DIR, class_name)\n",
    "    target_class_path = os.path.join(TARGET_DIR, class_name)\n",
    "    images = [f for f in os.listdir(class_path) if f.lower().endswith(('.png', '.jpg', '.jpeg'))]\n",
    "\n",
    "    print(f'Augmentez clasa \"{class_name}\" ({len(images)} imagini)...')\n",
    "    \n",
    "    for img_name in tqdm(images):\n",
    "        img_path = os.path.join(class_path, img_name)\n",
    "        try:\n",
    "            # Încarcă imaginea\n",
    "            img = load_img(img_path, target_size=IMAGE_SIZE)\n",
    "            x = img_to_array(img)\n",
    "            x = x.reshape((1,) + x.shape)\n",
    "\n",
    "            # SOLUȚIA 1: Folosește save_to_dir (cea mai simplă)\n",
    "            for i in range(AUGMENTATIONS_PER_IMAGE):\n",
    "                generator = datagen.flow(\n",
    "                    x, \n",
    "                    batch_size=1,\n",
    "                    save_to_dir=target_class_path,\n",
    "                    save_prefix=f'aug_{i}_{img_name.split(\".\")[0]}',\n",
    "                    save_format='jpg'  # sau 'png'\n",
    "                )\n",
    "                next(generator)  # generează un batch\n",
    "            \n",
    "            # Dacă vrei control manual, folosește SOLUȚIA 2:\n",
    "            \"\"\"\n",
    "            # SOLUȚIA 2: Control manual cu iterator\n",
    "            flow_gen = datagen.flow(x, batch_size=1)\n",
    "            for i in range(AUGMENTATIONS_PER_IMAGE):\n",
    "                batch = next(flow_gen)\n",
    "                aug_img = array_to_img(batch[0])\n",
    "                base_name = img_name.split('.')[0]\n",
    "                extension = img_name.split('.')[-1]\n",
    "                aug_img.save(os.path.join(target_class_path, f'aug_{i}_{base_name}.{extension}'))\n",
    "            \"\"\"\n",
    "\n",
    "        except Exception as e:\n",
    "            print(f'Eroare la imaginea {img_name}: {e}')\n",
    "\n",
    "print(\"Augmentare completă!\")"
   ]
  },
  {
   "cell_type": "code",
   "outputs": [],
   "source": [],
   "metadata": {
    "collapsed": false
   },
   "id": "837a179de2d47152"
  }
 ],
 "metadata": {
  "kernelspec": {
   "display_name": "Python 3",
   "language": "python",
   "name": "python3"
  },
  "language_info": {
   "codemirror_mode": {
    "name": "ipython",
    "version": 2
   },
   "file_extension": ".py",
   "mimetype": "text/x-python",
   "name": "python",
   "nbconvert_exporter": "python",
   "pygments_lexer": "ipython2",
   "version": "2.7.6"
  }
 },
 "nbformat": 4,
 "nbformat_minor": 5
}
